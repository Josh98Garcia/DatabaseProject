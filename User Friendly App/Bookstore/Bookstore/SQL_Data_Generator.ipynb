{
  "nbformat": 4,
  "nbformat_minor": 0,
  "metadata": {
    "colab": {
      "name": "SQL Data Generator.ipynb",
      "provenance": [],
      "collapsed_sections": []
    },
    "kernelspec": {
      "name": "python3",
      "display_name": "Python 3"
    }
  },
  "cells": [
    {
      "cell_type": "code",
      "metadata": {
        "id": "2LuucnADCdIx",
        "colab_type": "code",
        "colab": {
          "base_uri": "https://localhost:8080/",
          "height": 185
        },
        "outputId": "8ad164d0-57ea-4b06-85c7-f81a6089e345"
      },
      "source": [
        "!pip install Faker"
      ],
      "execution_count": 60,
      "outputs": [
        {
          "output_type": "stream",
          "text": [
            "Collecting Faker\n",
            "\u001b[?25l  Downloading https://files.pythonhosted.org/packages/ee/64/079c012bed8bc416fa0d136ceff86a7d25e765f45d7a0a97e0b803b1d506/Faker-4.0.3-py3-none-any.whl (1.0MB)\n",
            "\u001b[K     |████████████████████████████████| 1.0MB 3.4MB/s \n",
            "\u001b[?25hRequirement already satisfied: python-dateutil>=2.4 in /usr/local/lib/python3.6/dist-packages (from Faker) (2.8.1)\n",
            "Requirement already satisfied: text-unidecode==1.3 in /usr/local/lib/python3.6/dist-packages (from Faker) (1.3)\n",
            "Requirement already satisfied: six>=1.5 in /usr/local/lib/python3.6/dist-packages (from python-dateutil>=2.4->Faker) (1.12.0)\n",
            "Installing collected packages: Faker\n",
            "Successfully installed Faker-4.0.3\n"
          ],
          "name": "stdout"
        }
      ]
    },
    {
      "cell_type": "code",
      "metadata": {
        "id": "GUer-avvCiet",
        "colab_type": "code",
        "colab": {
          "base_uri": "https://localhost:8080/",
          "height": 35
        },
        "outputId": "ec51bd5e-e864-4bc1-cbd5-320ad4d2d23b"
      },
      "source": [
        "from faker import Faker\n",
        "fake = Faker()\n",
        "fake.name()"
      ],
      "execution_count": 64,
      "outputs": [
        {
          "output_type": "execute_result",
          "data": {
            "text/plain": [
              "'Steve Little'"
            ]
          },
          "metadata": {
            "tags": []
          },
          "execution_count": 64
        }
      ]
    },
    {
      "cell_type": "code",
      "metadata": {
        "id": "49P4Ow2c6waU",
        "colab_type": "code",
        "colab": {
          "base_uri": "https://localhost:8080/",
          "height": 1000
        },
        "outputId": "7844669b-efdd-4350-ec59-d49333cb5e97"
      },
      "source": [
        "#Users\n",
        "for _ in range(100):\n",
        "  print(\"(N'\" + fake.name() + \"', \" + str(random.randrange(2)) + \", '\" + str(random.randrange(1950, 2001)) + \"-\" + str(random.randrange(1, 13)) + \"-\" + str(random.randrange(1, 29)) + \"'),\")"
      ],
      "execution_count": 67,
      "outputs": [
        {
          "output_type": "stream",
          "text": [
            "(N'David Hobbs', 1, '1978-6-10'),\n",
            "(N'Joshua Hernandez', 1, '1965-5-27'),\n",
            "(N'Darrell May', 1, '1984-10-25'),\n",
            "(N'Brenda Bowman', 0, '1962-11-25'),\n",
            "(N'Kimberly King', 0, '1955-11-9'),\n",
            "(N'Sheila Martin', 0, '1972-7-27'),\n",
            "(N'Amy Hill', 1, '1950-8-5'),\n",
            "(N'Joanne Brown', 0, '1973-10-12'),\n",
            "(N'Lindsey Bishop', 0, '1955-4-9'),\n",
            "(N'Nicholas Rodriguez', 1, '1997-2-15'),\n",
            "(N'Rebecca Weiss', 0, '1980-5-17'),\n",
            "(N'Angela Coleman', 0, '1987-1-16'),\n",
            "(N'Willie Edwards', 1, '1991-9-6'),\n",
            "(N'Benjamin Rose', 0, '1981-4-10'),\n",
            "(N'Benjamin Liu', 1, '1984-6-27'),\n",
            "(N'Sandra Wang', 1, '1953-2-26'),\n",
            "(N'William Watts', 1, '1966-1-19'),\n",
            "(N'Virginia Phillips', 0, '1984-2-20'),\n",
            "(N'Gabriel Burgess', 1, '1976-5-12'),\n",
            "(N'Priscilla Hopkins', 0, '1974-2-22'),\n",
            "(N'Donna Smith', 0, '1988-12-5'),\n",
            "(N'Lisa Lynn', 0, '1981-12-28'),\n",
            "(N'Sharon Johnson', 0, '1951-11-10'),\n",
            "(N'Felicia Martinez', 1, '1990-7-25'),\n",
            "(N'Jennifer Peterson', 1, '1989-11-1'),\n",
            "(N'Jessica Washington', 1, '1968-5-15'),\n",
            "(N'Taylor Stephens', 1, '1994-5-6'),\n",
            "(N'Zachary Castaneda', 0, '1989-11-2'),\n",
            "(N'Vincent Yang', 1, '1997-1-21'),\n",
            "(N'Scott Gutierrez', 1, '1951-10-25'),\n",
            "(N'Tammy Wood', 0, '1979-10-22'),\n",
            "(N'Mary Dalton', 1, '1987-11-9'),\n",
            "(N'Dennis Hill', 0, '1980-3-28'),\n",
            "(N'Jennifer Brown', 0, '1984-3-26'),\n",
            "(N'Deborah Bentley DVM', 1, '1979-10-23'),\n",
            "(N'Joyce Nunez', 1, '1991-1-18'),\n",
            "(N'Lisa Gray', 0, '1967-7-17'),\n",
            "(N'Cody Davis', 0, '1956-7-17'),\n",
            "(N'Timothy Reid', 1, '1973-1-2'),\n",
            "(N'Julie Young', 1, '1983-4-15'),\n",
            "(N'Thomas Morales', 1, '1953-6-2'),\n",
            "(N'Denise Heath', 1, '1954-9-8'),\n",
            "(N'Breanna Barton', 1, '1979-4-15'),\n",
            "(N'Michael Odom', 1, '1952-6-11'),\n",
            "(N'Tammy Garcia', 1, '1986-11-10'),\n",
            "(N'Jose Davis MD', 1, '1963-10-13'),\n",
            "(N'Erin Bradshaw', 1, '1972-6-6'),\n",
            "(N'Mario Green', 0, '1979-2-7'),\n",
            "(N'Greg Sims', 1, '1961-9-27'),\n",
            "(N'Thomas Welch', 0, '1955-11-14'),\n",
            "(N'Tracy Lucas', 1, '1953-6-8'),\n",
            "(N'Melissa Richardson', 1, '1977-12-2'),\n",
            "(N'Tammy Salazar', 0, '1970-9-11'),\n",
            "(N'Maria Williams', 0, '1955-8-24'),\n",
            "(N'Patrick Clark', 0, '1994-4-13'),\n",
            "(N'Austin Simmons', 1, '1999-7-4'),\n",
            "(N'Keith Ruiz', 1, '1957-9-26'),\n",
            "(N'Daniel Morris', 1, '1962-4-13'),\n",
            "(N'Michael Owens', 0, '1972-9-17'),\n",
            "(N'Angel Kaufman', 0, '1963-9-10'),\n",
            "(N'Nicholas Aguilar', 0, '1961-11-16'),\n",
            "(N'Patrick Petty', 1, '1982-2-12'),\n",
            "(N'Ruben Cochran', 0, '1985-1-7'),\n",
            "(N'Steve Brown', 0, '1963-3-14'),\n",
            "(N'Laurie Roberts', 0, '1988-11-2'),\n",
            "(N'Robert Gomez', 1, '1999-5-26'),\n",
            "(N'Danielle Estrada', 1, '1976-11-19'),\n",
            "(N'Christopher Clay', 1, '2000-4-23'),\n",
            "(N'John Scott', 0, '1960-9-27'),\n",
            "(N'Robert Jones', 1, '1993-9-28'),\n",
            "(N'John Brown', 0, '1957-2-26'),\n",
            "(N'Robert Pena', 0, '2000-5-9'),\n",
            "(N'Miranda Huff', 0, '1994-2-25'),\n",
            "(N'Andrew Garcia', 1, '1951-2-27'),\n",
            "(N'Abigail Clay', 0, '1980-9-7'),\n",
            "(N'Brianna Jackson', 1, '1994-9-7'),\n",
            "(N'Charlotte Larson', 0, '1997-4-17'),\n",
            "(N'Sue Banks', 0, '1965-9-7'),\n",
            "(N'Lance Cooper', 1, '1997-2-13'),\n",
            "(N'Amber Evans', 1, '1987-7-17'),\n",
            "(N'Michael Perry', 1, '1962-9-21'),\n",
            "(N'Brian Good', 0, '1954-12-12'),\n",
            "(N'Brian Carter', 0, '2000-8-5'),\n",
            "(N'Pamela Guerra', 0, '1959-10-13'),\n",
            "(N'Gabriela Frost DVM', 0, '1981-1-25'),\n",
            "(N'Austin Lewis', 1, '1991-8-11'),\n",
            "(N'Joseph Becker', 1, '1955-11-14'),\n",
            "(N'Teresa Taylor', 1, '1995-6-7'),\n",
            "(N'Mary Hardy', 0, '2000-8-19'),\n",
            "(N'Marissa Harrison', 0, '1975-4-20'),\n",
            "(N'Donna Garcia', 0, '1975-7-8'),\n",
            "(N'Jamie Davis', 0, '1982-2-1'),\n",
            "(N'Sonya Allen', 0, '1983-6-22'),\n",
            "(N'Timothy Perez', 0, '1991-5-10'),\n",
            "(N'Nicholas Johnson', 1, '1971-4-15'),\n",
            "(N'Heidi Cox', 0, '1975-10-3'),\n",
            "(N'Karen Wells', 0, '1972-8-4'),\n",
            "(N'Carl Jones', 1, '1959-5-12'),\n",
            "(N'Barbara Williams', 1, '1984-2-3'),\n",
            "(N'Brittany Maxwell', 0, '1964-1-27'),\n"
          ],
          "name": "stdout"
        }
      ]
    },
    {
      "cell_type": "code",
      "metadata": {
        "id": "fcPGJ5mMC-0R",
        "colab_type": "code",
        "colab": {
          "base_uri": "https://localhost:8080/",
          "height": 1000
        },
        "outputId": "c02603e6-349f-4160-a001-9c470ab1bf0b"
      },
      "source": [
        "#Authors (w/o bios)\n",
        "for _ in range(100):\n",
        "  print(\"(N'\" + fake.name() + \"', '\" + str(random.randrange(1950, 2001)) + \"-\" + str(random.randrange(1, 13)) + \"-\" + str(random.randrange(1, 29)) + \"'),\")"
      ],
      "execution_count": 68,
      "outputs": [
        {
          "output_type": "stream",
          "text": [
            "(N'Jason Green', '1957-3-1'),\n",
            "(N'Mr. Kenneth Hester', '1982-5-2'),\n",
            "(N'Allison Woods', '1959-3-18'),\n",
            "(N'Cynthia Daniels', '1967-4-1'),\n",
            "(N'Raymond Rodriguez', '1957-6-28'),\n",
            "(N'Jill Maxwell', '1992-10-28'),\n",
            "(N'Nancy Phillips', '1964-10-10'),\n",
            "(N'David Flynn', '1977-12-18'),\n",
            "(N'Willie Arellano', '2000-12-22'),\n",
            "(N'Linda Davis', '1991-7-16'),\n",
            "(N'Andrea Robertson', '1999-12-2'),\n",
            "(N'Alyssa Berry DDS', '1986-5-11'),\n",
            "(N'Nancy Chavez', '1996-5-23'),\n",
            "(N'Shawn Garcia', '1995-11-4'),\n",
            "(N'Ronald Martinez', '1961-11-19'),\n",
            "(N'Jessica Zamora', '1953-12-1'),\n",
            "(N'Dana Molina', '1975-5-17'),\n",
            "(N'Jennifer Giles', '1952-10-28'),\n",
            "(N'Robert Ford', '1989-6-16'),\n",
            "(N'John Silva', '1956-12-26'),\n",
            "(N'Joseph Leon', '1980-5-6'),\n",
            "(N'Shannon Rivera', '1952-12-14'),\n",
            "(N'Brian Carroll', '1984-6-26'),\n",
            "(N'Andrew Diaz', '1985-3-5'),\n",
            "(N'Courtney Jones', '1992-11-28'),\n",
            "(N'Matthew Rios', '1958-1-16'),\n",
            "(N'Danielle Thompson', '1976-11-11'),\n",
            "(N'Leslie Caldwell', '1960-1-28'),\n",
            "(N'Julie Snyder', '1952-3-13'),\n",
            "(N'Rachel Marshall', '1973-3-2'),\n",
            "(N'Susan Carpenter', '1958-4-1'),\n",
            "(N'Eileen Phillips', '1954-1-11'),\n",
            "(N'Robert Compton', '1951-10-4'),\n",
            "(N'Sophia Davis', '2000-9-12'),\n",
            "(N'Charles Wang', '2000-3-25'),\n",
            "(N'Christy Hubbard', '1978-5-11'),\n",
            "(N'Laurie Grant', '1991-12-13'),\n",
            "(N'Douglas Bradshaw', '1958-11-9'),\n",
            "(N'Natalie Valdez', '1959-11-12'),\n",
            "(N'Kaitlin Brooks', '1958-2-28'),\n",
            "(N'Janice Miller', '1994-6-4'),\n",
            "(N'Deanna Hartman', '1950-8-1'),\n",
            "(N'Tina Graham', '1989-3-7'),\n",
            "(N'Dorothy Warren', '1953-7-17'),\n",
            "(N'Ryan Brown', '1981-11-24'),\n",
            "(N'Jackie Davis', '1954-6-7'),\n",
            "(N'Elizabeth Day', '1981-12-28'),\n",
            "(N'Jeffrey Miller', '1990-6-10'),\n",
            "(N'Carlos Gomez', '1961-3-12'),\n",
            "(N'Matthew Price', '1965-10-24'),\n",
            "(N'Mark Lee', '1973-3-2'),\n",
            "(N'Steven Henson', '1971-6-17'),\n",
            "(N'Karen Mcpherson', '1958-8-21'),\n",
            "(N'Mrs. Kathleen Miller', '1977-7-27'),\n",
            "(N'Stacey Stephens', '1964-11-11'),\n",
            "(N'Sarah Gilbert', '1996-3-10'),\n",
            "(N'Stephanie Zimmerman', '1991-11-19'),\n",
            "(N'Michael Blake', '1990-9-7'),\n",
            "(N'Mark Edwards', '1959-3-17'),\n",
            "(N'Brianna Todd', '1970-5-26'),\n",
            "(N'Samantha Ford', '1980-11-20'),\n",
            "(N'Stephanie Miller', '1969-1-21'),\n",
            "(N'Christopher Brown', '1994-12-1'),\n",
            "(N'Michael Roach', '1965-8-3'),\n",
            "(N'Jennifer Herrera', '1993-10-16'),\n",
            "(N'Sara Ellison', '1982-3-2'),\n",
            "(N'Teresa Edwards', '1962-4-1'),\n",
            "(N'Amanda Norman', '1981-5-20'),\n",
            "(N'Steven Cobb', '1954-1-18'),\n",
            "(N'David Martin', '1979-12-25'),\n",
            "(N'Dennis Campbell DDS', '1957-4-13'),\n",
            "(N'Brian Freeman', '1996-4-26'),\n",
            "(N'Albert Hogan', '1987-11-17'),\n",
            "(N'David Powell', '1950-4-7'),\n",
            "(N'Travis Barnes', '1978-12-21'),\n",
            "(N'Heather Davis', '1985-2-3'),\n",
            "(N'Alexander Jimenez', '1994-11-7'),\n",
            "(N'Lisa Chan', '1990-11-22'),\n",
            "(N'Amy Hill', '1952-8-20'),\n",
            "(N'Michael Garcia', '1962-1-18'),\n",
            "(N'Troy Boyd', '1982-3-19'),\n",
            "(N'Rachel Combs', '1980-11-25'),\n",
            "(N'Tina Duarte', '1957-12-22'),\n",
            "(N'Christina Boyd', '1973-1-4'),\n",
            "(N'Ricky Carr', '1966-3-10'),\n",
            "(N'Nathan Caldwell', '1989-6-25'),\n",
            "(N'Michelle Hunter', '1972-1-7'),\n",
            "(N'John Estes', '2000-9-14'),\n",
            "(N'Joseph Nolan', '1976-7-15'),\n",
            "(N'Joseph Barrett', '1958-2-7'),\n",
            "(N'Mrs. Mary Wang MD', '1963-4-10'),\n",
            "(N'Matthew Tucker', '1973-4-6'),\n",
            "(N'Terry Conner', '1988-9-26'),\n",
            "(N'Shelby Lucas', '1994-11-9'),\n",
            "(N'Miguel Smith', '1956-6-18'),\n",
            "(N'Courtney Flores', '1953-9-11'),\n",
            "(N'Stanley Miller', '1967-5-15'),\n",
            "(N'Steven Rodgers', '1997-4-21'),\n",
            "(N'Eric Gray', '1999-1-25'),\n",
            "(N'Molly Stanley', '1986-12-17'),\n"
          ],
          "name": "stdout"
        }
      ]
    },
    {
      "cell_type": "code",
      "metadata": {
        "id": "hpRVlY65GP93",
        "colab_type": "code",
        "colab": {
          "base_uri": "https://localhost:8080/",
          "height": 960
        },
        "outputId": "3f9df3a7-f2a7-4d14-984d-76b7db421476"
      },
      "source": [
        "#Authors (w/ bios)\n",
        "for _ in range(50):\n",
        "  z = fake.sentence()\n",
        "  for y in range(random.randrange(5)):\n",
        "    z += \" \" + fake.sentence()\n",
        "  print(\"(N'\" + fake.name() + \"', '\" + str(random.randrange(1950, 2001)) + \"-\" + str(random.randrange(1, 13)) + \"-\" + str(random.randrange(1, 29)) + \"', N'\" + z + \"'),\")"
      ],
      "execution_count": 93,
      "outputs": [
        {
          "output_type": "stream",
          "text": [
            "(N'Jennifer Mckenzie', '1971-2-9', N'Play two this everyone gun prepare apply majority. Cup civil region defense anything seven federal pick. Enough ground low natural increase.'),\n",
            "(N'Evan Hughes', '1959-4-5', N'Best effect challenge group whole second agency theory. Computer enter back form foreign direction put western. Least check often easy bed. Something fact behind radio me.'),\n",
            "(N'Laurie Garcia', '1973-1-14', N'Up beyond while offer health nearly. Popular already night.'),\n",
            "(N'Joseph Castillo', '1996-4-12', N'Send song total. Between ten particularly least important first. Every field share say police base people eight. Number guy rise project religious. What worker move size.'),\n",
            "(N'Dawn Young', '1958-3-4', N'Arrive remain store around mind. List voice stock ball wall. Author need enjoy painting baby half. Bag cause guess push. Before machine could spring.'),\n",
            "(N'Richard Howell', '1970-6-3', N'Benefit game senior recently past model produce. Visit they company civil international usually onto.'),\n",
            "(N'Alex Koch', '1974-8-11', N'Recent each those heavy everyone radio around. Sing outside let born role pretty social. Above ask heavy appear approach entire white. Walk culture trade son finally work. Discuss show exactly hot sort crime.'),\n",
            "(N'Christina Evans', '1954-1-26', N'Poor purpose wife seven. Hold strategy book.'),\n",
            "(N'Cynthia Lucas', '1965-10-24', N'A rest center base keep reach.'),\n",
            "(N'Alexis Meyer', '1954-12-25', N'Explain realize thank suffer.'),\n",
            "(N'Sheri Bryant', '1954-10-23', N'Pull central music another listen point. Any rise all fight kitchen necessary staff.'),\n",
            "(N'Shelby Chapman', '1956-10-21', N'Decision part suddenly pattern rest. Either miss than so attention. Kind tell full forget dark memory difficult. Training black sign imagine tax government.'),\n",
            "(N'Timothy Hinton', '1999-8-20', N'Then way them threat our some explain business. Police hospital seven world sell model.'),\n",
            "(N'Joseph Hopkins', '1966-8-12', N'Positive rock she story relationship.'),\n",
            "(N'John Henderson', '1968-6-2', N'Bring top campaign build spend discuss sign.'),\n",
            "(N'Ricky French', '1953-5-14', N'Who young radio near. Total speak some blue radio single theory. Exactly site most sister manager provide Mr. Business use attorney fight treat itself.'),\n",
            "(N'Kimberly Chang', '1980-1-22', N'Who camera however debate perform change similar. Serve determine six direction piece opportunity action address.'),\n",
            "(N'Melissa Brown', '1992-10-18', N'Approach continue talk test. Tv leg tree something mouth.'),\n",
            "(N'David Collins', '1976-9-22', N'Language mission later clearly president else. With now know. That him military blood. Despite family herself generation. Any watch nice interview say billion.'),\n",
            "(N'Yolanda Johnson', '1998-1-22', N'Realize hair the read fire politics by. Likely describe thousand eight feel store. Keep pick movement officer cultural sign culture the. Compare and general maintain put.'),\n",
            "(N'Dr. Kimberly Steele', '1990-2-15', N'Save beyond cup. Prevent carry base sure oil. Win local serve yeah door most.'),\n",
            "(N'Bobby Walker', '1956-6-28', N'Director I book simply guess director. Try reason marriage argue accept attention time.'),\n",
            "(N'Tanya Lee', '1993-11-18', N'Quite paper economy particularly professional behind. Say to simple per affect could. Among question father film other physical himself. Executive research later message. Without investment quite moment want form go.'),\n",
            "(N'James Thomas', '1972-9-21', N'Professional term consumer eye Mr traditional. Pressure claim animal woman leg particular season.'),\n",
            "(N'Jesus Nelson', '1964-3-2', N'Different listen happy performance skin huge. Item student hold among nation wish. Last make middle natural choice fast public. Student technology subject chance. Say turn poor light nice still.'),\n",
            "(N'Amanda Lynch', '1953-5-12', N'Reflect think seek hard. Top lose box consumer only thousand house. Source sort degree say laugh. Authority rather mean deep.'),\n",
            "(N'Amy Smith', '1966-5-14', N'Fight boy north mention. Compare inside moment hotel other. Factor computer growth approach top tonight early.'),\n",
            "(N'Sharon Bush', '1979-3-26', N'Medical tell assume citizen adult. Listen town first focus. Boy road although pretty. Main population pull someone put mention. Give suggest occur part.'),\n",
            "(N'Lori Horn', '1996-12-13', N'As buy who similar camera player push.'),\n",
            "(N'Casey Burton', '1965-10-6', N'Then report answer agency enough improve. Throw onto rich message sit next be. Finally attack usually authority. Respond world education skill close size consumer early.'),\n",
            "(N'Amanda Orr', '1969-10-27', N'By always police during beat night benefit idea. Summer determine only just success.'),\n",
            "(N'Curtis Larson', '1977-5-11', N'Interest movement rock but daughter different keep. Husband various cultural popular arrive. Right tree indicate yourself foot exactly.'),\n",
            "(N'David Rice', '1958-11-2', N'Include stop anyone center know reduce paper. Order political these. Physical stand share again. Give model claim support rule attorney leave.'),\n",
            "(N'Joshua Medina', '1986-5-2', N'Above position law hospital. With job community rich cell system. Character carry role reach five particular. International card dinner property up power southern.'),\n",
            "(N'Laura Baker', '1962-6-21', N'For also since number seat myself. Think skill least second rock. Scene test improve why outside on either. Front because herself rate during wish building girl.'),\n",
            "(N'Tina Lee', '1960-2-22', N'Character center final treat writer. No accept physical stage across end do wonder.'),\n",
            "(N'Austin Graves', '1962-3-12', N'Expect first as write.'),\n",
            "(N'Angela Conway', '1951-12-15', N'Gun especially cup action peace. Cost produce window offer phone. Third exactly project shoulder. Require girl it evidence surface lawyer. Impact research control building boy drug.'),\n",
            "(N'Lauren Williams', '1981-11-4', N'Determine tonight true discover ten rate always. Father unit wait add young blood. Speak analysis turn learn card pressure ask. Fill color oil another. Turn home lose same college high serious situation.'),\n",
            "(N'Jennifer Green', '1950-3-4', N'Staff have trade. President next eye without. Computer first answer reflect edge half. At dinner make. Mind attorney artist future recent.'),\n",
            "(N'Lisa Mccormick', '1987-6-28', N'Learn where population hour write part particularly car. Ever media rate relationship us. Begin such pressure available. Trial teacher run friend however.'),\n",
            "(N'Sue Shepherd', '1951-5-14', N'Computer tend quite show. Structure will film eight brother garden. Country perhaps mouth truth by.'),\n",
            "(N'Caroline Cox', '1965-1-15', N'Worry range bar. Other daughter town purpose thank.'),\n",
            "(N'Misty Walton', '1978-3-12', N'Administration election health area role physical. South than decide first current can. Even over bring however. Gun card attention whether explain skill.'),\n",
            "(N'Scott Perez', '1989-8-18', N'Society read natural outside shoulder. Will fear send poor identify. Age shake police read travel. Light wind any half certain. Movement board rise wind enjoy.'),\n",
            "(N'John Barker', '1966-10-20', N'Too vote data through method. While member no president road including modern figure.'),\n",
            "(N'Maria Stone', '1973-7-25', N'Note opportunity group bed step leg. Activity next strategy six growth. Might hand south. Former against note assume traditional ball test. Save mind sea spring avoid.'),\n",
            "(N'Jonathan Shepherd', '1953-2-22', N'Debate soldier it whole action sound account. Develop return pull guess across including admit. Certain generation although create win soon. Rule color travel recently.'),\n",
            "(N'Wendy Miles', '1996-5-3', N'Hit smile field tell. War Democrat fight modern already. Computer various fact poor discuss town pretty. Central need big. Response senior base many though bag sport.'),\n",
            "(N'James Garcia', '1958-3-12', N'Less coach father spring old. Letter area last occur recently final. By trade about student. Project student among realize year.'),\n"
          ],
          "name": "stdout"
        }
      ]
    },
    {
      "cell_type": "code",
      "metadata": {
        "id": "HFspuL5cM4S9",
        "colab_type": "code",
        "colab": {}
      },
      "source": [
        "#Publishers\n",
        "suf = [' Books', ' Press', ' House', ' Radio', '']\n",
        "genres = ['Absurdist/surreal/whimsical', 'Action', 'Adventure', 'Comedy', 'Crime', 'Drama', 'Fantasy', 'Historical', 'Historical fiction', 'Horror', 'Magical realism', 'Mystery', 'Paranoid fiction', 'Philosophical', 'Political', 'Romance', 'Saga', 'Satire', 'Science fiction', 'Social', 'Speculative', 'Thriller', 'Urban', 'Western']\n",
        "for _ in range(50):\n",
        "  x = random.randrange(3)\n",
        "  y = list(dict.fromkeys(fake.sentence(ext_word_list=genres)[:-1].split()))\n",
        "  y.sort()\n",
        "  g = y[0]\n",
        "  z = fake.word().capitalize()\n",
        "  for i in range(1, len(y)-1):\n",
        "    g += ', ' + y[i]\n",
        "  for _ in range(x):\n",
        "    z += \" \" + fake.word().capitalize()\n",
        "  z += suf[random.randrange(5)]\n",
        "  geo = \"geography::Point(\" + str(random.uniform(-90, 90)) + \", \" + str(random.uniform(-180, 180)) + \", 4326)\"\n",
        "\n",
        "  print(\"(N'\" + z + \"', '\" + str(random.randrange(1800, 2001)) + \"', \" + geo + \", N'\" + g + \"'),\")"
      ],
      "execution_count": 0,
      "outputs": []
    },
    {
      "cell_type": "code",
      "metadata": {
        "id": "ycmF5GHnYJ2u",
        "colab_type": "code",
        "colab": {
          "base_uri": "https://localhost:8080/",
          "height": 960
        },
        "outputId": "37cef5d0-d95f-4a13-99ee-f3ddaaf465de"
      },
      "source": [
        "#INSERT INTO Bookstore.Books(authorID, publisherID, [name], /*[version], genre,*/ publishDate, quantity, unitPrice, /*rating,*/ condition/*, [description]*/)\n",
        "\n",
        "#Books\n",
        "genres = ['Absurdist/surreal/whimsical', 'Action', 'Adventure', 'Comedy', 'Crime', 'Drama', 'Fantasy', 'Historical', 'Historical fiction', 'Horror', 'Magical realism', 'Mystery', 'Paranoid fiction', 'Philosophical', 'Political', 'Romance', 'Saga', 'Satire', 'Science fiction', 'Social', 'Speculative', 'Thriller', 'Urban', 'Western']\n",
        "conditions = ['E', 'G', 'F', 'B']\n",
        "\n",
        "for _ in range(50):\n",
        "  y = list(dict.fromkeys(fake.sentence(ext_word_list=genres)[:-1].split()))\n",
        "  y.sort()\n",
        "  g = y[0]\n",
        "  for i in range(1, len(y)-1):\n",
        "    g += ', ' + y[i]\n",
        "  z = fake.sentence()\n",
        "  for y in range(random.randrange(3)):\n",
        "    z += \" \" + fake.sentence()\n",
        "  print(\"(\" + str(random.randrange(50) + 1) + \", \" + str(random.randrange(50) + 1) + \", N'\" + fake.sentence()[:-1] + \"', \" + str(random.randrange(11)) + \", N'\" + g + \"', '\" + str(random.randrange(1950, 2001)) + \"-\" + str(random.randrange(1, 13)) + \"-\" + str(random.randrange(1, 29)) + \"', \" + str(random.randrange(5, 100)) + \", \" + str(round(random.uniform(10, 100), 2)) + \", \" + str(round(random.uniform(.5, 5) * 2) / 2) + \", N'\" + conditions[random.randrange(3)] + \"', N'\" + z + \"'),\")"
      ],
      "execution_count": 187,
      "outputs": [
        {
          "output_type": "stream",
          "text": [
            "(41, 43, N'Middle artist save design take along use', 0, N'Adventure, Mystery, Saga, Science, Thriller', '1996-2-15', 64, 30.46, 3.5, N'F', N'Increase marriage including hundred. Way scientist edge design.'),\n",
            "(25, 4, N'Field health enter ability land', 7, N'Comedy, Horror, Mystery', '1976-2-3', 76, 52.37, 4.5, N'F', N'Party that western.'),\n",
            "(42, 4, N'Cold management down else television', 4, N'Action, Crime, Horror, Science, Social, Speculative', '1987-3-27', 13, 36.44, 2.0, N'F', N'Specific necessary benefit hard boy near power. Movie hotel oil another court good first drop.'),\n",
            "(16, 11, N'Hit possible walk traditional compare', 0, N'Comedy, Romance, Social, Thriller', '1973-1-13', 24, 46.95, 4.5, N'G', N'Just part a American church single.'),\n",
            "(6, 14, N'Authority try kid clear bar', 6, N'Adventure, Horror, Satire', '1987-6-8', 61, 77.18, 1.0, N'F', N'Gas court lot mind.'),\n",
            "(6, 16, N'Report right shake special couple upon', 6, N'Magical, Social, Thriller', '1977-3-2', 66, 82.75, 2.0, N'E', N'Human protect pretty collection. Age social huge.'),\n",
            "(2, 43, N'Talk adult production contain call western staff', 8, N'Absurdist/surreal/whimsical, Fantasy, Historical, Magical, Romance, Western', '1999-2-27', 38, 20.9, 2.0, N'F', N'Product seem energy. Sing nothing itself sing. Mouth process affect word capital trip window.'),\n",
            "(24, 28, N'Yard gun themselves task least return interesting', 7, N'Absurdist/Surreal/Whimsical, Absurdist/surreal/whimsical, Crime, Horror, Philosophical, Political', '1974-5-14', 5, 28.4, 3.5, N'F', N'Fund cultural response use sit. Campaign country treatment course.'),\n",
            "(10, 38, N'Guy option significant visit never', 8, N'Absurdist/surreal/whimsical, Fantasy, Fiction, Paranoid, Romance, Speculative', '1993-3-19', 18, 55.26, 2.0, N'F', N'Player mean central leave option green couple. Enjoy establish current same young south production. Letter base officer story vote.'),\n",
            "(27, 48, N'Hospital economy magazine marriage threat former argue', 2, N'Fantasy, Magical, Speculative, Thriller', '1985-4-6', 72, 93.23, 3.5, N'E', N'Perhaps what open. Actually sense practice with feeling.'),\n",
            "(14, 17, N'Race production raise ask size', 7, N'Adventure, Historical, Mystery, Romance, Saga', '1995-5-3', 38, 61.93, 1.0, N'G', N'Force energy approach early drive bed. Past sister than bring approach series. Among read film.'),\n",
            "(39, 44, N'Lead offer base remember young forget help when', 2, N'Crime, Historical, Science, Social, Thriller', '1993-11-3', 42, 77.02, 3.0, N'F', N'Machine card source range.'),\n",
            "(38, 46, N'Section military station myself full light hear', 4, N'Fantasy, Historical, Political, Science, Speculative, Thriller', '1967-4-26', 99, 66.76, 4.5, N'G', N'Anything but read fly deep reason deep else. Evidence society rich human phone build. Create it face yourself individual.'),\n",
            "(41, 3, N'Daughter method tree picture part guy he', 9, N'Mystery, Social', '1999-9-2', 18, 21.99, 2.0, N'E', N'Require many fine story toward manager. Reflect education few raise these.'),\n",
            "(43, 36, N'Movie law speak where audience including say institution', 4, N'Action, Horror, Paranoid, Political, Satire, Urban, Western', '1980-2-14', 42, 90.17, 2.5, N'G', N'Glass thousand beat sure. Us white clearly language left hospital nation. Pressure bar organization tonight.'),\n",
            "(3, 13, N'About cell into until democratic new pass which', 7, N'Absurdist/Surreal/Whimsical, Fantasy, Mystery, Paranoid, Speculative, Western', '1965-8-23', 76, 72.84, 2.5, N'E', N'Modern kid store sell series computer power. Baby eye dog cost population three leave stand.'),\n",
            "(8, 37, N'Former front later necessary', 6, N'Satire, Social', '1956-5-24', 61, 74.28, 4.0, N'F', N'Magazine daughter law away wrong investment there.'),\n",
            "(42, 44, N'Although teach hit attack program drug', 3, N'Adventure, Drama, Fantasy, Horror, Paranoid', '1968-4-11', 14, 41.7, 4.5, N'F', N'Suggest air I parent citizen tell. Under good establish car wall.'),\n",
            "(50, 35, N'List interesting cultural rather meet', 2, N'Action, Comedy, Horror, Romance, Science, Thriller', '1995-2-9', 14, 22.61, 4.0, N'E', N'While whole civil safe.'),\n",
            "(48, 24, N'Data performance product over skill assume month start', 0, N'Absurdist/Surreal/Whimsical, Crime, Historical, Science, Thriller', '1997-3-2', 37, 48.0, 2.0, N'E', N'But party above tend miss. Hit area national girl contain.'),\n",
            "(2, 36, N'Maintain personal today between represent middle', 5, N'Historical, Speculative', '1962-4-19', 92, 86.17, 0.5, N'E', N'Tell without could story training outside three over. Thought never group their stuff. For dog city whose listen rest you.'),\n",
            "(45, 24, N'Raise call meeting bad', 2, N'Horror, Paranoid, Saga, Science, Speculative', '1987-10-15', 51, 27.24, 4.0, N'F', N'Smile manage authority strategy itself decide. Baby ready begin least water goal. Since speech wear maintain player tonight.'),\n",
            "(40, 14, N'Month outside campaign north', 2, N'Paranoid, Philosophical, Western', '1962-8-7', 50, 37.37, 1.0, N'E', N'They main cold order with pull. Into owner operation a enough grow. Money large box bad deep.'),\n",
            "(40, 43, N'Enter their increase social', 4, N'Absurdist/surreal/whimsical, Adventure, Comedy, Crime, Drama', '1989-1-11', 82, 81.18, 2.5, N'G', N'Approach mission carry force front.'),\n",
            "(50, 30, N'Huge role again a may first store', 0, N'Adventure, Speculative', '1984-10-12', 57, 68.56, 4.0, N'G', N'Simply away vote manage event. Main best per short receive. Family than magazine group long seek.'),\n",
            "(5, 34, N'Reality center theory partner campaign set expert little', 10, N'Comedy, Drama, Historical, Magical, Realism', '1951-11-1', 12, 76.14, 4.5, N'G', N'Next pick top organization herself news establish. Least himself reduce set other daughter support dark. Far poor decide yes.'),\n",
            "(45, 26, N'Truth owner hot sea within', 6, N'Comedy, Magical, Philosophical, Saga, Thriller, Western', '1982-8-23', 57, 31.64, 4.5, N'E', N'Small management hear nice skill much reality happy. Throw six animal left.'),\n",
            "(12, 24, N'Occur commercial east', 9, N'Historical, Magical, Paranoid, Philosophical, Urban, fiction', '1990-1-11', 59, 12.33, 1.0, N'G', N'Human too because including fill. American make name cover important like stuff here. Forward administration dinner.'),\n",
            "(21, 18, N'Democratic second customer industry least dog', 1, N'Drama, Fantasy, Historical', '1958-12-3', 22, 27.25, 4.5, N'F', N'Daughter inside rate religious impact. Talk challenge billion admit drive process.'),\n",
            "(42, 30, N'Defense myself million whatever', 1, N'Absurdist/surreal/whimsical, Drama, Magical, Mystery, Philosophical, Speculative, Western', '1968-7-15', 23, 73.82, 2.5, N'G', N'Certain particular large enter. Little you accept environmental.'),\n",
            "(28, 44, N'Contain example east production open form', 9, N'Absurdist/surreal/whimsical, Comedy, Fantasy, Horror, Saga', '1971-6-5', 83, 73.99, 4.0, N'E', N'Garden image quite tax focus a.'),\n",
            "(43, 7, N'Control call do tell art', 2, N'Philosophical, Thriller', '1973-11-15', 38, 45.91, 4.5, N'G', N'Budget magazine some dark tend others. Finish school value without over through however. Already today sort after other.'),\n",
            "(41, 24, N'I human throw former anything report reach especially', 7, N'Adventure, Crime, Mystery', '1965-9-17', 42, 36.27, 2.5, N'G', N'Give help live alone bit serve interview.'),\n",
            "(41, 24, N'Would give seem sure something national away', 5, N'Action, Satire', '1952-3-22', 68, 61.01, 4.5, N'E', N'Side push various agreement seat local street. Bed call government form interesting risk expect phone. Trial worry how audience such.'),\n",
            "(8, 17, N'Plant business moment left create break', 4, N'Adventure, Historical, Romance, Urban, Western', '1981-5-20', 91, 80.42, 2.5, N'G', N'School friend ok. Send commercial plan fish head common sometimes.'),\n",
            "(34, 48, N'Remain southern again', 2, N'Comedy, Fiction, Magical, Philosophical, Satire, Science, Urban, fiction', '1973-7-18', 61, 68.54, 4.5, N'G', N'Notice other war record. Could act staff professional. Agency business table above send minute occur.'),\n",
            "(15, 35, N'Artist six become trip', 1, N'Absurdist/surreal/whimsical, Paranoid, Romance, Science', '1989-2-19', 46, 13.47, 5.0, N'F', N'Number ago process situation.'),\n",
            "(32, 27, N'Involve yes near national leave', 0, N'Fantasy, Historical, Magical, Mystery, Realism', '1986-7-24', 69, 59.62, 5.0, N'F', N'Month form note would free. How water usually agree executive often.'),\n",
            "(14, 6, N'Agency involve discover him perform customer fast', 9, N'Historical', '1952-4-15', 63, 75.53, 3.5, N'F', N'Per nice country stuff black democratic fast.'),\n",
            "(1, 41, N'On later house', 1, N'Absurdist/surreal/whimsical, Fantasy, Historical, Horror, Mystery, Paranoid', '1988-1-5', 87, 12.87, 4.5, N'F', N'Dark above value throughout so. Whether heavy everyone between.'),\n",
            "(17, 17, N'Realize through past already', 6, N'Adventure, Comedy, Crime, Drama, Fiction, Paranoid, Romance', '1967-9-4', 77, 27.39, 4.0, N'F', N'Store point form. Anything section century family. Similar spring such detail.'),\n",
            "(25, 6, N'Recently poor already language after', 1, N'Action, Comedy, Philosophical, Political', '1985-8-14', 14, 22.74, 4.5, N'F', N'Should reduce quality notice moment. From cultural indicate effect.'),\n",
            "(37, 28, N'Stock the own have century career', 6, N'Fantasy, Horror, Magical', '1983-8-11', 89, 90.15, 1.0, N'G', N'Single actually raise understand deep mind floor.'),\n",
            "(43, 46, N'Gun attention reduce seven may parent civil', 3, N'Absurdist/surreal/whimsical, Adventure, Magical', '1981-12-11', 32, 31.25, 1.5, N'F', N'Figure mother owner risk benefit fly.'),\n",
            "(17, 14, N'Choice sea nearly report month', 7, N'Absurdist/surreal/whimsical, Action, Crime, Fantasy, Magical, Philosophical, Western', '1950-4-7', 99, 49.64, 4.0, N'F', N'Until floor take PM at perform carry attention.'),\n",
            "(19, 30, N'Letter recent term data six', 8, N'Adventure, Drama, Historical, Magical, Philosophical, Political, Science, fiction', '1960-12-24', 39, 76.47, 2.5, N'E', N'Know can born any foreign oil painting. Girl third career box within.'),\n",
            "(44, 46, N'Than contain beyond heavy its', 6, N'Crime, Magical, Philosophical, Romance, Satire, Social, Thriller', '1995-4-20', 64, 59.75, 2.5, N'G', N'Close oil sit send man win. Consider wait card weight Congress camera one.'),\n",
            "(19, 5, N'Speak store individual fear well computer include agent', 2, N'Historical, Horror, Political', '1977-2-14', 28, 81.81, 3.5, N'E', N'Until listen power tree. Enjoy rock word.'),\n",
            "(19, 37, N'Open subject line remain go boy trial war', 3, N'Drama, Fantasy, Philosophical', '1990-1-10', 65, 44.62, 2.5, N'G', N'Young talk drop organization. Street his nearly something name.'),\n",
            "(37, 17, N'They water ever whatever', 10, N'Adventure, Comedy', '1963-1-22', 33, 33.52, 4.0, N'F', N'Box could hand. Entire course think debate ability event career. From everything figure dark international establish.'),\n"
          ],
          "name": "stdout"
        }
      ]
    },
    {
      "cell_type": "code",
      "metadata": {
        "id": "ZxvxcKb5iJl2",
        "colab_type": "code",
        "colab": {
          "base_uri": "https://localhost:8080/",
          "height": 222
        },
        "outputId": "5ac493c2-f761-4ae7-eb18-49713ece13f5"
      },
      "source": [
        "#INSERT INTO Bookstore.Orders(buyerID, ISBN, price, quantity, orderDate)\n",
        "#VALUES(@u, @b, @price, @numBeingBought, CURRENT_TIMESTAMP);\n",
        "#SELECT BB.unitPrice FROM Bookstore.Books BB WHERE BB.ISBN = 7;\n",
        "\n",
        "for _ in range(10):\n",
        "  book = str(random.randrange(50)+1)\n",
        "  print(\"(\" + str(random.randrange(50)+1) + \", \" + str(book) + \", (SELECT BB.unitPrice FROM Bookstore.Books BB WHERE BB.ISBN = \" + book + \"), \" + str(random.randrange(4) + 1) + \", '2020-\" + str(random.randrange(1, 5)) + \"-\" + str(random.randrange(1, 29)) + \"'),\")"
      ],
      "execution_count": 184,
      "outputs": [
        {
          "output_type": "stream",
          "text": [
            "(11, 15, (SELECT BB.unitPrice FROM Bookstore.Books BB WHERE BB.ISBN = 15), 3, '2020-1-26'),\n",
            "(47, 12, (SELECT BB.unitPrice FROM Bookstore.Books BB WHERE BB.ISBN = 12), 3, '2020-1-6'),\n",
            "(28, 29, (SELECT BB.unitPrice FROM Bookstore.Books BB WHERE BB.ISBN = 29), 4, '2020-1-23'),\n",
            "(46, 6, (SELECT BB.unitPrice FROM Bookstore.Books BB WHERE BB.ISBN = 6), 3, '2020-1-27'),\n",
            "(26, 9, (SELECT BB.unitPrice FROM Bookstore.Books BB WHERE BB.ISBN = 9), 4, '2020-1-24'),\n",
            "(21, 13, (SELECT BB.unitPrice FROM Bookstore.Books BB WHERE BB.ISBN = 13), 4, '2020-1-4'),\n",
            "(34, 21, (SELECT BB.unitPrice FROM Bookstore.Books BB WHERE BB.ISBN = 21), 1, '2020-4-19'),\n",
            "(19, 46, (SELECT BB.unitPrice FROM Bookstore.Books BB WHERE BB.ISBN = 46), 4, '2020-1-15'),\n",
            "(5, 43, (SELECT BB.unitPrice FROM Bookstore.Books BB WHERE BB.ISBN = 43), 1, '2020-4-2'),\n",
            "(26, 13, (SELECT BB.unitPrice FROM Bookstore.Books BB WHERE BB.ISBN = 13), 4, '2020-3-11'),\n"
          ],
          "name": "stdout"
        }
      ]
    }
  ]
}